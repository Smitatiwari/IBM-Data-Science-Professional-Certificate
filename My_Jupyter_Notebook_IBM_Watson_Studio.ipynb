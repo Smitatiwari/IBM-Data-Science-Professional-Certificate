{
 "cells": [
  {
   "cell_type": "markdown",
   "id": "3907d928",
   "metadata": {},
   "source": [
    "#  My Jupyter Notebook on IBM Watson Studio"
   ]
  },
  {
   "cell_type": "markdown",
   "id": "40c526d6",
   "metadata": {},
   "source": [
    "**Smita Tiwari**\n"
   ]
  },
  {
   "cell_type": "markdown",
   "id": "9037729f",
   "metadata": {},
   "source": [
    "Research Scholar\n"
   ]
  },
  {
   "cell_type": "markdown",
   "id": "27f156d9",
   "metadata": {},
   "source": [
    "_I am interested in data science because I want to utilize the power of AI/ML in research work\n",
    "for analyzing large, complex and multi dimensional data set using a variety of tools._"
   ]
  },
  {
   "cell_type": "markdown",
   "id": "823e5f88",
   "metadata": {},
   "source": [
    "### The code in the following cell will append ten numbers in an empty list and print the list of numbers along with sum of all numbers present in the list"
   ]
  },
  {
   "cell_type": "code",
   "execution_count": 13,
   "id": "86c6b16d",
   "metadata": {},
   "outputs": [
    {
     "name": "stdout",
     "output_type": "stream",
     "text": [
      "The list of ten numbers [0, 1, 2, 3, 4, 5, 6, 7, 8, 9]\n",
      "The sum of ten numbers present in the list: 45\n"
     ]
    }
   ],
   "source": [
    "num=[]\n",
    "sum=0\n",
    "for i in range (0,10):\n",
    "    num.append(i)\n",
    "    sum=sum+i\n",
    "print(\"The list of ten numbers\", num) \n",
    "print(\"The sum of ten numbers present in the list:\", sum)"
   ]
  },
  {
   "cell_type": "markdown",
   "id": "65bcb36b",
   "metadata": {},
   "source": [
    "***\n",
    "Click on following link for more details about courseera IBM Data Science Professional Certificate:  \n",
    "\n",
    "www.coursera.org/professional-certificates\n",
    "\n",
    "IBM Data Science Professional Certificate contains following 10 courses:\n",
    "1. What is Data Science?\n",
    "2. Tools for Data Science\n",
    "3. Data Science Methodology\n",
    "4. Python for Data Science, AI & Development\n",
    "5. Python Project for Data Science\n",
    "6. Databases and SQL for Data Science with Python\n",
    "7. Data Analysis with Python\n",
    "8. Data Visualization with Python\n",
    "9. Machine Learning with Python\n",
    "10. Applied Data Science Capstone\n",
    "\n",
    "\n",
    "\n",
    "\n",
    "![][Python-Logo]\n",
    "\n",
    "[Python-Logo]: https://www.python.org/static/community_logos/python-logo-master-v3-TM.png \"Python Logo\"  \n",
    "\n",
    "\n",
    "Python libraries for Data Science:\n",
    "- pandas\n",
    "- numpy\n",
    "- matplotlib\n",
    "- seaborn\n",
    "- sklearn\n",
    "\n",
    "Table1:\n",
    "\n",
    "|Name | Version|\n",
    "|----| ----|\n",
    "|Python | 3.9|\n",
    "|Keras| 2.2|\n",
    "\n",
    "~~Don't Copy~~  \n",
    "\n",
    "> AI\n",
    ">> ML\n",
    ">>> DL\n",
    "\n",
    "<code style=\"background:yellow;color:black\">Click on follwing link for github</code>\n",
    "\n",
    "<a href=\"https://github.com/Smitatiwari\" target=\"_blank\" rel=\"noopener noreferrer\">Github link</a>\n",
    "***"
   ]
  },
  {
   "cell_type": "code",
   "execution_count": null,
   "id": "b9f4dd53",
   "metadata": {},
   "outputs": [],
   "source": []
  }
 ],
 "metadata": {
  "kernelspec": {
   "display_name": "Python 3",
   "language": "python",
   "name": "python3"
  },
  "language_info": {
   "codemirror_mode": {
    "name": "ipython",
    "version": 3
   },
   "file_extension": ".py",
   "mimetype": "text/x-python",
   "name": "python",
   "nbconvert_exporter": "python",
   "pygments_lexer": "ipython3",
   "version": "3.8.8"
  }
 },
 "nbformat": 4,
 "nbformat_minor": 5
}
